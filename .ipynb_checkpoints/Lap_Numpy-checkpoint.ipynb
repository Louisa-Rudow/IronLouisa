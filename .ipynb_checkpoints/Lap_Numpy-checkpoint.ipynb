{
 "cells": [
  {
   "cell_type": "markdown",
   "id": "a6452cc9",
   "metadata": {},
   "source": [
    "\n",
    "# numpy exercises\n",
    "\n",
    "This is a collection of exercises that have been collected in the numpy mailing list, on stack overflow\n",
    "and in the numpy documentation. The goal of this collection is to offer a quick reference for both old\n",
    "and new users but also to provide a set of exercises for those who teach.\n",
    "\n",
    "\n",
    "If you find an error or think you've a better way to solve some of them, feel\n",
    "free to open an issue at <https://github.com/rougier/numpy-100>.\n",
    "File automatically generated. See the documentation to update questions/answers/hints programmatically."
   ]
  },
  {
   "cell_type": "code",
   "execution_count": 1,
   "id": "658c186d",
   "metadata": {},
   "outputs": [],
   "source": [
    "#### 1. Import the numpy package under the name `np` (★☆☆)\n",
    "#hint: import … as`\n",
    "\n",
    "import numpy as np"
   ]
  },
  {
   "cell_type": "code",
   "execution_count": 2,
   "id": "f6e308ff",
   "metadata": {},
   "outputs": [
    {
     "name": "stdout",
     "output_type": "stream",
     "text": [
      "[0. 0. 0. 0. 0. 0. 0. 0. 0. 0.]\n"
     ]
    }
   ],
   "source": [
    "#### 2. Create a null vector of size 10 (★☆☆)\n",
    "#hint: np.zeros`\n",
    "\n",
    "a = np.zeros((10))\n",
    "print(a)\n"
   ]
  },
  {
   "cell_type": "code",
   "execution_count": 3,
   "id": "8cad7f4b",
   "metadata": {},
   "outputs": [
    {
     "name": "stdout",
     "output_type": "stream",
     "text": [
      "[0. 0. 0. 0. 1. 0. 0. 0. 0. 0.]\n"
     ]
    }
   ],
   "source": [
    "#### 3. Create a null vector of size 10 but the fifth value which is 1 (★☆☆)\n",
    "# hint: array[4]`\n",
    "\n",
    "a = np.zeros((10))\n",
    "a[4] = 1\n",
    "\n",
    "print(a)\n"
   ]
  },
  {
   "cell_type": "code",
   "execution_count": 4,
   "id": "29e6b5d6",
   "metadata": {},
   "outputs": [
    {
     "data": {
      "text/plain": [
       "array([10, 11, 12, 13, 14, 15, 16, 17, 18, 19, 20, 21, 22, 23, 24, 25, 26,\n",
       "       27, 28, 29, 30, 31, 32, 33, 34, 35, 36, 37, 38, 39, 40, 41, 42, 43,\n",
       "       44, 45, 46, 47, 48])"
      ]
     },
     "execution_count": 4,
     "metadata": {},
     "output_type": "execute_result"
    }
   ],
   "source": [
    "#### 4. Create a vector with values ranging from 10 to 49 (★☆☆)\n",
    "#hint: arange`\n",
    "\n",
    "np.arange(10,49)\n"
   ]
  },
  {
   "cell_type": "code",
   "execution_count": 13,
   "id": "dfddfc0d",
   "metadata": {},
   "outputs": [
    {
     "name": "stdout",
     "output_type": "stream",
     "text": [
      "[[6 3 1]\n",
      " [6 8 6]\n",
      " [5 3 5]]\n"
     ]
    }
   ],
   "source": [
    "#### 5. Create a 3x3 matrix with values ranging from 0 to 8 (★☆☆)\n",
    "#hint: reshape`\n",
    "\n",
    "matrix = np.random.randint(0, 9, (3, 3))\n",
    "print(matrix)"
   ]
  },
  {
   "cell_type": "code",
   "execution_count": 19,
   "id": "e1369f10",
   "metadata": {},
   "outputs": [
    {
     "data": {
      "text/plain": [
       "(array([0, 1, 4]),)"
      ]
     },
     "execution_count": 19,
     "metadata": {},
     "output_type": "execute_result"
    }
   ],
   "source": [
    "#### 6. Find indices of non-zero elements from [1,2,0,0,4,0] (★☆☆)\n",
    "#hint: np.nonzero`\n",
    "\n",
    "elements = np.array([1,2,0,0,4,0])\n",
    "\n",
    "np.nonzero(elements)"
   ]
  },
  {
   "cell_type": "code",
   "execution_count": 24,
   "id": "e54a143f",
   "metadata": {},
   "outputs": [
    {
     "name": "stdout",
     "output_type": "stream",
     "text": [
      "[[1. 0. 0.]\n",
      " [0. 1. 0.]\n",
      " [0. 0. 1.]]\n"
     ]
    }
   ],
   "source": [
    "#### 7. Create a 3x3 identity matrix (★☆☆)\n",
    "#hint: np.eye`\n",
    "\n",
    "identity_matrix = np.eye(3)\n",
    "\n",
    "print(identity_matrix)\n"
   ]
  },
  {
   "cell_type": "code",
   "execution_count": 75,
   "id": "5f713c1d",
   "metadata": {},
   "outputs": [
    {
     "data": {
      "text/plain": [
       "array([[[0.61861648, 0.42413819, 0.8502133 ],\n",
       "        [0.06627246, 0.64192439, 0.6692862 ],\n",
       "        [0.43542677, 0.08898074, 0.37685035]],\n",
       "\n",
       "       [[0.27584874, 0.87386163, 0.40167673],\n",
       "        [0.08559441, 0.20632447, 0.16435106],\n",
       "        [0.42628298, 0.66188708, 0.87672794]],\n",
       "\n",
       "       [[0.01414919, 0.68733958, 0.73045575],\n",
       "        [0.48490125, 0.67426341, 0.37056946],\n",
       "        [0.05790136, 0.05120251, 0.06340815]]])"
      ]
     },
     "execution_count": 75,
     "metadata": {},
     "output_type": "execute_result"
    }
   ],
   "source": [
    "#### 8. Create a 3x3x3 array with random values (★☆☆)\n",
    "#hint: np.random.random`\n",
    "\n",
    "np.random.random(((3,3,3)))\n"
   ]
  },
  {
   "cell_type": "code",
   "execution_count": 54,
   "id": "7d3d3c35",
   "metadata": {},
   "outputs": [
    {
     "name": "stdout",
     "output_type": "stream",
     "text": [
      "0.03207829260391992\n",
      "0.9928272570299845\n"
     ]
    }
   ],
   "source": [
    "### 9. Create a 10x10 array with random values and find the minimum and maximum values (★☆☆)\n",
    "#hint: min, max`\n",
    "\n",
    "array9 = np.random.random((10,10))\n",
    "\n",
    "print(array9.min())\n",
    "print(array9.max())\n",
    "\n"
   ]
  },
  {
   "cell_type": "code",
   "execution_count": 73,
   "id": "b01e7244",
   "metadata": {},
   "outputs": [
    {
     "data": {
      "text/plain": [
       "0.5351973987700389"
      ]
     },
     "execution_count": 73,
     "metadata": {},
     "output_type": "execute_result"
    }
   ],
   "source": [
    "#### 10. Create a random vector of size 30 and find the mean value (★☆☆)\n",
    "#hint: mean`\n",
    "\n",
    "np.random.random(30).mean() \n"
   ]
  },
  {
   "cell_type": "code",
   "execution_count": 74,
   "id": "e52f6944",
   "metadata": {},
   "outputs": [
    {
     "name": "stdout",
     "output_type": "stream",
     "text": [
      "[[1 0 0 0 0]\n",
      " [0 2 0 0 0]\n",
      " [0 0 3 0 0]\n",
      " [0 0 0 4 0]\n",
      " [0 0 0 0 5]]\n"
     ]
    }
   ],
   "source": [
    "#### 11. Create a 5x5 matrix with values 1,2,3,4 just below the diagonal (★☆☆)\n",
    "#hint: np.diag`\n",
    "\n",
    "x = np.diag([1, 2, 3, 4, 5])\n",
    "print(x)"
   ]
  },
  {
   "cell_type": "code",
   "execution_count": 86,
   "id": "5746090f",
   "metadata": {},
   "outputs": [
    {
     "name": "stdout",
     "output_type": "stream",
     "text": [
      "[[0.73108334 0.54575092 0.98986861 0.33382708 0.77597276]\n",
      " [0.79290888 0.15357961 0.54669026 0.27037709 0.70433247]\n",
      " [0.53838897 0.69827031 0.96166252 0.8848335  0.38337541]\n",
      " [0.53770893 0.78385071 0.00220927 0.16734036 0.46395743]\n",
      " [0.8239467  0.18512086 0.22154409 0.72817218 0.46154818]]\n"
     ]
    },
    {
     "data": {
      "text/plain": [
       "array([[ 0.67725032, -0.00627679,  1.63167998, -0.78787613,  0.84280763],\n",
       "       [ 0.90526999, -1.45264936, -0.0028124 , -1.02188693,  0.57859008],\n",
       "       [-0.03342851,  0.55623214,  1.52765269,  1.24429849, -0.6051362 ],\n",
       "       [-0.03593658,  0.87186241, -2.01092046, -1.40189815, -0.30794052],\n",
       "       [ 1.019741  , -1.33632162, -1.20198862,  0.66651366, -0.31682611]])"
      ]
     },
     "execution_count": 86,
     "metadata": {},
     "output_type": "execute_result"
    }
   ],
   "source": [
    "#### 12. Normalize a 5x5 random matrix (★☆☆)\n",
    "#hint: (x -mean)/std`\n",
    "\n",
    "\n",
    "y = np.random.random((5,5))\n",
    "print(y)\n",
    "\n",
    "x = (y-np.mean(y))/np.std(y)\n",
    "x"
   ]
  },
  {
   "cell_type": "code",
   "execution_count": 90,
   "id": "ec9446c5",
   "metadata": {},
   "outputs": [
    {
     "name": "stdout",
     "output_type": "stream",
     "text": [
      "[0]\n"
     ]
    }
   ],
   "source": [
    "#### 13. How to find common values between two arrays? (★☆☆)\n",
    "#hint: np.intersect1d`\n",
    "\n",
    "array1 = np.array([0, 10])\n",
    "array2 = np.array([0, 8, 2])\n",
    "print(np.intersect1d(array1, array2))\n"
   ]
  },
  {
   "cell_type": "code",
   "execution_count": 93,
   "id": "763db791",
   "metadata": {},
   "outputs": [
    {
     "name": "stdout",
     "output_type": "stream",
     "text": [
      "[0.03155966 0.04985615 0.07594297 0.08105879 0.11952423 0.13834847\n",
      " 0.15040356 0.22228397 0.25283882 0.25963797 0.27928379 0.29185408\n",
      " 0.31262296 0.37795307 0.39257434 0.39409518 0.44411223 0.45859578\n",
      " 0.49436692 0.50029884 0.50587272 0.54853602 0.55359047 0.58111993\n",
      " 0.61328825 0.63799083 0.75844547 0.76598568 0.83087234 0.85525252]\n"
     ]
    }
   ],
   "source": [
    "#### 14. Create a random vector of size 10 and sort it (★★☆)\n",
    "#hint: sort`\n",
    "\n",
    "x = np.random.random(30)\n",
    "\n",
    "x.sort() \n",
    "print(x)\n"
   ]
  },
  {
   "cell_type": "code",
   "execution_count": 100,
   "id": "dc5f0669",
   "metadata": {},
   "outputs": [
    {
     "name": "stdout",
     "output_type": "stream",
     "text": [
      "[0.09593238 0.78158536 0.56194412 0.76863194 0.89024763 0.70360824\n",
      " 0.88522472 0.42390702 0.23673658 0.97173103 0.17183701 0.\n",
      " 0.88717017 0.39680951 0.32915453 0.48592078 0.95258051 0.72538355\n",
      " 0.08610143 0.10429112 0.89353836 0.39281032 0.21958106 0.35511182\n",
      " 0.78029307 0.60195171 0.64726326 0.11501261 0.71392006 0.22274355]\n"
     ]
    }
   ],
   "source": [
    "#### 15. Create random vector of size 10 and replace the maximum value by 0 (★★☆)\n",
    "#hint: argmax`\n",
    "\n",
    "a = np.random.random(30)\n",
    "\n",
    "a[np.argmax(a)]=0\n",
    "\n",
    "print(a)"
   ]
  },
  {
   "cell_type": "code",
   "execution_count": 119,
   "id": "c715f513",
   "metadata": {},
   "outputs": [
    {
     "data": {
      "text/plain": [
       "array([[ 0.33226896,  0.03999075, -0.10994163, -0.29694217,  0.03462409],\n",
       "       [ 0.11170489,  0.03713533, -0.34713302,  0.14838074,  0.04991207],\n",
       "       [ 0.06611644,  0.34187111,  0.10528073, -0.30479004, -0.20847825],\n",
       "       [ 0.30394237,  0.29738474, -0.48347784,  0.15800412, -0.27585338],\n",
       "       [ 0.1569235 , -0.36752386,  0.47871863, -0.35836092,  0.09024265]])"
      ]
     },
     "execution_count": 119,
     "metadata": {},
     "output_type": "execute_result"
    }
   ],
   "source": [
    "#### 16. Subtract the mean of each row of a matrix (★★☆)\n",
    "#hint: mean(axis=,keepdims=)`\n",
    "\n",
    "x = np.random.rand(5,5)\n",
    "\n",
    "y = x-np.mean(x,axis=1,keepdims=True)\n",
    "y\n"
   ]
  },
  {
   "cell_type": "code",
   "execution_count": 122,
   "id": "be46385a",
   "metadata": {},
   "outputs": [
    {
     "name": "stdout",
     "output_type": "stream",
     "text": [
      "[2001 7938 2453 ...  544  341 4349]\n",
      "[7268 8845  544  341 4349]\n",
      "[9995 9996 9997 9998 9999]\n"
     ]
    }
   ],
   "source": [
    "#### 17. How to get the n largest values of an array (★★★)\n",
    "Z = np.arange(10000)\n",
    "np.random.shuffle(Z)\n",
    "n = 5\n",
    "#hint: np.argsort | np.argpartition`\n",
    "\n",
    "\n",
    "print(np.argsort(Z))\n",
    "print(np.argsort(Z)[-n:])\n",
    "print(Z[np.argsort(Z)[-n:]])"
   ]
  },
  {
   "cell_type": "code",
   "execution_count": 133,
   "id": "6f4b5b0f",
   "metadata": {},
   "outputs": [
    {
     "name": "stdout",
     "output_type": "stream",
     "text": [
      "[[4 6 8]\n",
      " [1 9 9]\n",
      " [4 1 7]\n",
      " [6 1 1]\n",
      " [9 9 2]]\n",
      "[[ 4 36 64]\n",
      " [ 1 81 81]\n",
      " [ 4  1 49]\n",
      " [36  1  1]\n",
      " [81 81  2]]\n"
     ]
    }
   ],
   "source": [
    "#### 18. Create a random 5*3 matrix and replace items that are larger than 4 by their squares ( Example:  6 --> 36) \n",
    "#hint: np.where`\n",
    "\n",
    "x = np.random.randint(0,10,(5,3))\n",
    "\n",
    "print(x)\n",
    "\n",
    "z = np.where(x>4,x**2,x)\n",
    "\n",
    "print(z)"
   ]
  },
  {
   "cell_type": "code",
   "execution_count": null,
   "id": "249ef50e",
   "metadata": {},
   "outputs": [],
   "source": []
  },
  {
   "cell_type": "code",
   "execution_count": null,
   "id": "db099a73",
   "metadata": {},
   "outputs": [],
   "source": []
  }
 ],
 "metadata": {
  "kernelspec": {
   "display_name": "Python 3.9.7 64-bit ('base': conda)",
   "language": "python",
   "name": "python397jvsc74a57bd0fd728cfbfdf309c58cb1716ce92887498871f2fbed01fb0dfdf39b6c2f09a82b"
  },
  "language_info": {
   "codemirror_mode": {
    "name": "ipython",
    "version": 3
   },
   "file_extension": ".py",
   "mimetype": "text/x-python",
   "name": "python",
   "nbconvert_exporter": "python",
   "pygments_lexer": "ipython3",
   "version": "3.9.7"
  }
 },
 "nbformat": 4,
 "nbformat_minor": 5
}
