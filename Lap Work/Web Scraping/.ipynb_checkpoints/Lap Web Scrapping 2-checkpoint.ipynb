{
 "cells": [
  {
   "cell_type": "markdown",
   "id": "d6d16528",
   "metadata": {},
   "source": [
    "In the previous lab, you had to scrape data about \"hot songs\". It's critical to be on track with that part, as it was part of the request from the CTO.\n",
    "\n",
    "If you couldn't finish the first lab, use this time to go back there.\n",
    "\n",
    "**User experience:**\n",
    "\n",
    "- What happens if the user inputs a song that doesn't exist?\n",
    "- What do we do with songs that have the same name, but a different artist?\n",
    "- How do we deal with typos?\n",
    "\n",
    "**Architecture:**\n",
    "\n",
    "- Do we build the interaction with the user in the same notebook as the web-scraping?\n",
    "- Where do we store the scraped songs?\n",
    "\n",
    "**Scheduling / Automation:**\n",
    "\n",
    "- Should we scrape billboard / wikipedia every time a user sends a request?\n",
    "\n",
    "**Testing:**\n",
    "\n",
    "- Does it work when you test it with a real user (a colleague)?\n",
    "\n",
    "Chances are that more issues will appear, and that not all of them will be solved during this session. But what's important is that the issues have been identified."
   ]
  },
  {
   "cell_type": "code",
   "execution_count": null,
   "id": "308cc8f6",
   "metadata": {},
   "outputs": [],
   "source": [
    "# 1. import libraries\n",
    "from bs4 import BeautifulSoup\n",
    "import requests\n",
    "import pandas as pd\n",
    "from random import randint\n",
    "import numpy as np"
   ]
  },
  {
   "cell_type": "code",
   "execution_count": null,
   "id": "38ca8c71",
   "metadata": {},
   "outputs": [],
   "source": [
    "top_100 = pd.read_excel('billboard_top100.xlsx')\n",
    "top_100"
   ]
  },
  {
   "cell_type": "markdown",
   "id": "1a58a34e",
   "metadata": {},
   "source": [
    "#to get the artist that matches a song you can use something like this\n",
    "top_100['song_artist'][top_100['song_title'] == user_song_input].values\n",
    "\n",
    "#this will give you and array containing all the artists with a song named as user_input_song\n",
    "#then you can get the first one with indexing\n",
    "\n",
    "top_100['song_artist'][top_100['song_title'] == user_song_input].values[0]"
   ]
  },
  {
   "cell_type": "code",
   "execution_count": 35,
   "id": "7a23ebb4",
   "metadata": {},
   "outputs": [
    {
     "name": "stdout",
     "output_type": "stream",
     "text": [
      "Please enter a song title: Heat Wave\n",
      "Your song is by Glass Animals and belongs to the Hot100\n",
      "Another song from the Top100 that you might like: Dos Oruguitas\n"
     ]
    }
   ],
   "source": [
    "#What do we do with songs that have the same name, but a different artist?\n",
    "\n",
    "user_input = input(\"Please enter a song title: \")\n",
    "\n",
    "if top_100['song_title'].str.contains(user_input).any():\n",
    "    artists_of_song = list(top_100['song_artist'][top_100['song_title'] == user_song_input].values)\n",
    "    if len(artists_of_song) == 1:\n",
    "        song_artist = artists_of_song[0]\n",
    "        print(\"Your song is by\",song_artist,\"and belongs to the Hot100\")\n",
    "        print(\"Another song from the Top100 that you might like:\", np.random.choice(top_100['song_title']))\n",
    "    elif len(artists_of_song) > 1:\n",
    "        song_artist1 = artists_of_song[0]\n",
    "        song_artist2 = artists_of_song[1]\n",
    "        print(\"Your song belongs to the Hot100, but has two different interprets: \",song_artist1, \"&\", song_artist2)\n",
    "        print(\"Another song from the Top100 that you might like:\", np.random.choice(top_100['song_title']))\n",
    "else:\n",
    "    print(\"Your song is not in the Hot100\")\n",
    "    \n",
    "    "
   ]
  },
  {
   "cell_type": "code",
   "execution_count": null,
   "id": "b79a4d09",
   "metadata": {},
   "outputs": [],
   "source": [
    "# JaroWinkler: https://en.wikipedia.org/wiki/Jaro%E2%80%93Winkler_distance\n",
    "# import jaro"
   ]
  }
 ],
 "metadata": {
  "kernelspec": {
   "display_name": "Python 3.9.7 64-bit ('base': conda)",
   "language": "python",
   "name": "python397jvsc74a57bd0fd728cfbfdf309c58cb1716ce92887498871f2fbed01fb0dfdf39b6c2f09a82b"
  },
  "language_info": {
   "codemirror_mode": {
    "name": "ipython",
    "version": 3
   },
   "file_extension": ".py",
   "mimetype": "text/x-python",
   "name": "python",
   "nbconvert_exporter": "python",
   "pygments_lexer": "ipython3",
   "version": "3.9.7"
  },
  "toc": {
   "base_numbering": 1,
   "nav_menu": {},
   "number_sections": true,
   "sideBar": true,
   "skip_h1_title": true,
   "title_cell": "Table of Contents",
   "title_sidebar": "Contents",
   "toc_cell": false,
   "toc_position": {},
   "toc_section_display": true,
   "toc_window_display": false
  },
  "varInspector": {
   "cols": {
    "lenName": 16,
    "lenType": 16,
    "lenVar": 40
   },
   "kernels_config": {
    "python": {
     "delete_cmd_postfix": "",
     "delete_cmd_prefix": "del ",
     "library": "var_list.py",
     "varRefreshCmd": "print(var_dic_list())"
    },
    "r": {
     "delete_cmd_postfix": ") ",
     "delete_cmd_prefix": "rm(",
     "library": "var_list.r",
     "varRefreshCmd": "cat(var_dic_list()) "
    }
   },
   "types_to_exclude": [
    "module",
    "function",
    "builtin_function_or_method",
    "instance",
    "_Feature"
   ],
   "window_display": false
  }
 },
 "nbformat": 4,
 "nbformat_minor": 5
}
