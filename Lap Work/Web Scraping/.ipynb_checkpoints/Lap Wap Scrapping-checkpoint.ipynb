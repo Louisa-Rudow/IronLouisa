{
 "cells": [
  {
   "cell_type": "markdown",
   "id": "72027361",
   "metadata": {},
   "source": [
    "# Lap Web Scraping"
   ]
  },
  {
   "cell_type": "markdown",
   "id": "9d0a2ec7",
   "metadata": {},
   "source": [
    "## Create a function to scrape the Billboards 100 HOT songs and create a local dataframe of songs with them including:\n",
    "\n",
    "Song’s name\n",
    "Song’s artist\n"
   ]
  },
  {
   "cell_type": "code",
   "execution_count": null,
   "id": "a5ccc22d",
   "metadata": {},
   "outputs": [],
   "source": [
    "# 1. import libraries\n",
    "from bs4 import BeautifulSoup\n",
    "import requests\n",
    "import pandas as pd\n",
    "from random import randint\n",
    "import numpy as np"
   ]
  },
  {
   "cell_type": "code",
   "execution_count": null,
   "id": "6ca086bb",
   "metadata": {},
   "outputs": [],
   "source": [
    "# 2. find url and store it in a variable\n",
    "url = \"https://www.billboard.com/charts/hot-100/\""
   ]
  },
  {
   "cell_type": "code",
   "execution_count": null,
   "id": "72f719a6",
   "metadata": {},
   "outputs": [],
   "source": [
    "# 3. download html with a get request \n",
    "response = requests.get(url)"
   ]
  },
  {
   "cell_type": "code",
   "execution_count": null,
   "id": "76cdcf8b",
   "metadata": {},
   "outputs": [],
   "source": [
    "response.status_code # 200 status code means OK!"
   ]
  },
  {
   "cell_type": "code",
   "execution_count": null,
   "id": "7e8db162",
   "metadata": {},
   "outputs": [],
   "source": [
    "# 4.1. parse html (create the 'soup')\n",
    "soup = BeautifulSoup(response.content, \"html.parser\")\n",
    "# 4.2. check that the html code looks like it should\n",
    "soup"
   ]
  },
  {
   "cell_type": "code",
   "execution_count": null,
   "id": "3bf58085",
   "metadata": {},
   "outputs": [],
   "source": [
    "#initialize empty lists\n",
    "song_title = []"
   ]
  },
  {
   "cell_type": "code",
   "execution_count": null,
   "id": "18134da3",
   "metadata": {},
   "outputs": [],
   "source": [
    "for t in soup.find_all(\"h3\", class_=\"c-title a-no-trucate a-font-primary-bold-s u-letter-spacing-0021 u-font-size-23@tablet lrv-u-font-size-16 u-line-height-125 u-line-height-normal@mobile-max a-truncate-ellipsis u-max-width-245 u-max-width-230@tablet-only u-letter-spacing-0028@tablet\"):\n",
    "    song_title.append(t.get_text())"
   ]
  },
  {
   "cell_type": "code",
   "execution_count": null,
   "id": "97a77a06",
   "metadata": {},
   "outputs": [],
   "source": [
    "for t in soup.find_all(\"h3\", class_=\"c-title a-no-trucate a-font-primary-bold-s u-letter-spacing-0021 lrv-u-font-size-18@tablet lrv-u-font-size-16 u-line-height-125 u-line-height-normal@mobile-max a-truncate-ellipsis u-max-width-330 u-max-width-230@tablet-only\"):\n",
    "    song_title.append(t.get_text())"
   ]
  },
  {
   "cell_type": "code",
   "execution_count": null,
   "id": "3b075edf",
   "metadata": {},
   "outputs": [],
   "source": [
    "len(song_title)"
   ]
  },
  {
   "cell_type": "code",
   "execution_count": null,
   "id": "eea30d3c",
   "metadata": {},
   "outputs": [],
   "source": [
    "song_artist = []"
   ]
  },
  {
   "cell_type": "code",
   "execution_count": null,
   "id": "da682ef7",
   "metadata": {},
   "outputs": [],
   "source": [
    "len(soup.select(\".c-label.a-no-trucate\"))"
   ]
  },
  {
   "cell_type": "code",
   "execution_count": null,
   "id": "d2e09760",
   "metadata": {},
   "outputs": [],
   "source": [
    "for t in soup.select(\".c-label.a-no-trucate\"):\n",
    "    song_artist.append(t.get_text())"
   ]
  },
  {
   "cell_type": "code",
   "execution_count": null,
   "id": "517abcab",
   "metadata": {},
   "outputs": [],
   "source": [
    "song_artist"
   ]
  },
  {
   "cell_type": "code",
   "execution_count": null,
   "id": "1cfb9a1f",
   "metadata": {},
   "outputs": [],
   "source": [
    "len(song_artist)"
   ]
  },
  {
   "cell_type": "code",
   "execution_count": null,
   "id": "b15db266",
   "metadata": {},
   "outputs": [],
   "source": [
    "# each list becomes a column\n",
    "top_100 = pd.DataFrame({\"song_title\":song_title,\n",
    "                       \"song_artist\":song_artist\n",
    "                      })\n",
    "top_100.head()"
   ]
  },
  {
   "cell_type": "code",
   "execution_count": null,
   "id": "25ebe734",
   "metadata": {},
   "outputs": [],
   "source": [
    "top_100 = top_100.replace('\\n','', regex=True)"
   ]
  },
  {
   "cell_type": "code",
   "execution_count": null,
   "id": "fa1e691e",
   "metadata": {},
   "outputs": [],
   "source": [
    "top_100"
   ]
  },
  {
   "cell_type": "markdown",
   "id": "80b20c14",
   "metadata": {},
   "source": [
    "In the previous lab, you had to scrape data about \"hot songs\". It's critical to be on track with that part, as it was part of the request from the CTO.\n",
    "\n",
    "If you couldn't finish the first lab, use this time to go back there.\n",
    "\n",
    "**User experience:**\n",
    "\n",
    "- What happens if the user inputs a song that doesn't exist?\n",
    "- What do we do with songs that have the same name, but a different artist?\n",
    "- How do we deal with typos?\n",
    "\n",
    "**Architecture:**\n",
    "\n",
    "- Do we build the interaction with the user in the same notebook as the web-scraping?\n",
    "- Where do we store the scraped songs?\n",
    "\n",
    "**Scheduling / Automation:**\n",
    "\n",
    "- Should we scrape billboard / wikipedia every time a user sends a request?\n",
    "\n",
    "**Testing:**\n",
    "\n",
    "- Does it work when you test it with a real user (a colleague)?\n",
    "\n",
    "Chances are that more issues will appear, and that not all of them will be solved during this session. But what's important is that the issues have been identified."
   ]
  },
  {
   "cell_type": "markdown",
   "id": "8d1b9d77",
   "metadata": {},
   "source": [
    "user_song_input = input(\"Please enter a song title: \")\n",
    "user_artist_input = input(\"And the artist of the song: \")\n",
    "\n",
    "if top_100['song_title'].str.contains(user_input).any():\n",
    "    print('Your song belongs to the Hot100')    \n",
    "    print(\"Another song from the Top100 that you might like:\", np.random.choice(top_100['song_title']))\n",
    "else:\n",
    "    print(\"Your song is not in the Hot100\")\n"
   ]
  },
  {
   "cell_type": "code",
   "execution_count": null,
   "id": "5820fc54",
   "metadata": {},
   "outputs": [],
   "source": [
    "top_100.index[top_100['song_title'] == user_song_input].tolist()"
   ]
  },
  {
   "cell_type": "code",
   "execution_count": null,
   "id": "18c64648",
   "metadata": {},
   "outputs": [],
   "source": [
    "user_song_input = input(\"Please enter a song title: \")\n",
    "\n",
    "if top_100['song_title'].str.contains(user_input).any():\n",
    "    if top_100['song_title']\n",
    "    print('Your song belongs to the Hot100')    \n",
    "    print(\"Another song from the Top100 that you might like:\", np.random.choice(top_100['song_title']))\n",
    "else:\n",
    "    print(\"Your song is not in the Hot100\")\n"
   ]
  },
  {
   "cell_type": "markdown",
   "id": "530cdc48",
   "metadata": {},
   "source": [
    "#What do we do with songs that have the same name, but a different artist?\n",
    "\n",
    "user_song_input = input(\"Please enter a song title: \")\n",
    "user_artist_input = input(\"And the artist of the song: \")\n",
    "\n",
    "for i in range(len(top_100['song_title'])):\n",
    "    if top_100['song_title'][i] == user_song_input and top_100['song_artist'][i] == user_artist_input:\n",
    "        print(\"Your song \" + user_song_input + \" belongs to the Hot100\")\n",
    "        print(\"Another song from the Top100 that you might like:\", np.random.choice(top_100['song_title']))\n",
    "    elif top_100['song_title'][i] == user_song_input and top_100['song_artist'][i] != user_artist_input:\n",
    "        print(\"The song is in the Top100, but from a different artist: \",top_100['song_artist'][i])\n",
    "        print(\"Another song from the Top100 that you might like:\", np.random.choice(top_100['song_title']))\n",
    "    elif top_100['song_title'][i] != user_song_input:\n",
    "        print(\"Your song is not in the Hot100\") \n",
    "        break\n",
    "\n"
   ]
  },
  {
   "cell_type": "code",
   "execution_count": null,
   "id": "97034b0e",
   "metadata": {},
   "outputs": [],
   "source": []
  },
  {
   "cell_type": "markdown",
   "id": "7b3b2bba",
   "metadata": {},
   "source": [
    "a = input(\"Enter a number: \")\n",
    "\n",
    "if a.replace('.','',1).isdigit():  \n",
    "    a = float(a)        \n",
    "    \n",
    "    if a==0:\n",
    "        print(\"a is 0\")\n",
    "    elif a%2==1:\n",
    "        print(\"a is odd\")\n",
    "    else:\n",
    "        print(\"a is even\")\n",
    "else:\n",
    "    print(\"Incorrect type of input\")"
   ]
  }
 ],
 "metadata": {
  "kernelspec": {
   "display_name": "Python 3.9.7 64-bit ('base': conda)",
   "language": "python",
   "name": "python397jvsc74a57bd0fd728cfbfdf309c58cb1716ce92887498871f2fbed01fb0dfdf39b6c2f09a82b"
  },
  "language_info": {
   "codemirror_mode": {
    "name": "ipython",
    "version": 3
   },
   "file_extension": ".py",
   "mimetype": "text/x-python",
   "name": "python",
   "nbconvert_exporter": "python",
   "pygments_lexer": "ipython3",
   "version": "3.9.7"
  },
  "toc": {
   "base_numbering": 1,
   "nav_menu": {},
   "number_sections": true,
   "sideBar": true,
   "skip_h1_title": true,
   "title_cell": "Table of Contents",
   "title_sidebar": "Contents",
   "toc_cell": false,
   "toc_position": {},
   "toc_section_display": true,
   "toc_window_display": false
  },
  "varInspector": {
   "cols": {
    "lenName": 16,
    "lenType": 16,
    "lenVar": 40
   },
   "kernels_config": {
    "python": {
     "delete_cmd_postfix": "",
     "delete_cmd_prefix": "del ",
     "library": "var_list.py",
     "varRefreshCmd": "print(var_dic_list())"
    },
    "r": {
     "delete_cmd_postfix": ") ",
     "delete_cmd_prefix": "rm(",
     "library": "var_list.r",
     "varRefreshCmd": "cat(var_dic_list()) "
    }
   },
   "types_to_exclude": [
    "module",
    "function",
    "builtin_function_or_method",
    "instance",
    "_Feature"
   ],
   "window_display": false
  }
 },
 "nbformat": 4,
 "nbformat_minor": 5
}
