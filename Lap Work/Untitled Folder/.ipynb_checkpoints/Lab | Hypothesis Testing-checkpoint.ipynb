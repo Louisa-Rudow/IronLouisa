{
 "cells": [
  {
   "cell_type": "markdown",
   "id": "dad34db2",
   "metadata": {},
   "source": [
    "# Lab | Hypothesis Testing"
   ]
  },
  {
   "cell_type": "markdown",
   "id": "15878586",
   "metadata": {},
   "source": [
    "### Instructions\n",
    "\n",
    "1. It is assumed that the mean systolic blood pressure is `μ = 120 mm Hg`. In the Honolulu Heart Study, a sample of `n = 100` people had an average systolic blood pressure of 130.1 mm Hg with a standard deviation of 21.21 mm Hg. Is the group significantly different (with respect to systolic blood pressure!) from the regular population?\n",
    "\n",
    "   - Set up the hypothesis test.\n",
    "   - Write down all the steps followed for setting up the test.\n",
    "   - Calculate the test statistic by hand and also code it in Python. It should be 4.76190. What decision can you make based on this calculated value?"
   ]
  },
  {
   "cell_type": "markdown",
   "id": "fc88de13",
   "metadata": {},
   "source": [
    "### Set up the hypothesis test"
   ]
  },
  {
   "cell_type": "markdown",
   "id": "0ad9ef59",
   "metadata": {},
   "source": [
    "Population Mean: μ = 120 mm Hg <br>\n",
    "Sample Mean: x̄ = 21.21 mm Hg<br>\n",
    "Sample Size: n = 100<br>\n",
    "Sample Standard Deviation: 21.21 mm Hg<br>"
   ]
  },
  {
   "cell_type": "markdown",
   "id": "5ef11a58",
   "metadata": {},
   "source": [
    "### Define null hypothesis (assumption about the population)"
   ]
  },
  {
   "cell_type": "markdown",
   "id": "393e1efb",
   "metadata": {},
   "source": [
    "H0:   μ = x̄ \n",
    "\n",
    "The sample mean is not significantly different from the regular population mean."
   ]
  },
  {
   "cell_type": "markdown",
   "id": "566d7925",
   "metadata": {},
   "source": [
    "### Define the alternative hypothesis ( if our assumption is not true)"
   ]
  },
  {
   "cell_type": "markdown",
   "id": "679f2e19",
   "metadata": {},
   "source": [
    "Ha: μ ≠ x̄ \n",
    "\n",
    "The sample mean is significantly different from the regular population mean.\n",
    "\n",
    "--> Two sided Test, because difference has no direction"
   ]
  },
  {
   "cell_type": "markdown",
   "id": "b0a093e9",
   "metadata": {},
   "source": [
    "### Decide a test statistic"
   ]
  },
  {
   "cell_type": "markdown",
   "id": "4189c564",
   "metadata": {},
   "source": [
    "Because we only have the sample standard deviation, we will use a statistic for a t-Student distribution. "
   ]
  },
  {
   "cell_type": "markdown",
   "id": "4bf6c69d",
   "metadata": {},
   "source": [
    "### Set the Confidence level / significance level"
   ]
  },
  {
   "cell_type": "markdown",
   "id": "7b08d22f",
   "metadata": {},
   "source": [
    "confidence level:\n",
    "<br>95% -> α = 0.05"
   ]
  },
  {
   "cell_type": "code",
   "execution_count": 27,
   "id": "0f773288",
   "metadata": {},
   "outputs": [
    {
     "data": {
      "text/plain": [
       "-1.9842169515086827"
      ]
     },
     "execution_count": 27,
     "metadata": {},
     "output_type": "execute_result"
    }
   ],
   "source": [
    "##critical value:\n",
    "\n",
    "tc = +-stats.t.ppf(1-(0.05/2),df=99)\n",
    "tc"
   ]
  },
  {
   "cell_type": "markdown",
   "id": "c4621fcf",
   "metadata": {},
   "source": [
    "### Calculate the test statistic based on the given information:"
   ]
  },
  {
   "cell_type": "markdown",
   "id": "f238aff3",
   "metadata": {},
   "source": [
    "#### by hand\n",
    "\n",
    "130.1-120/ 21.21/ √ 100\n",
    "\n",
    "= 4,76"
   ]
  },
  {
   "cell_type": "markdown",
   "id": "ed977f0a",
   "metadata": {},
   "source": [
    "#### 7.2 with python"
   ]
  },
  {
   "cell_type": "code",
   "execution_count": 23,
   "id": "68b8a2b0",
   "metadata": {},
   "outputs": [],
   "source": [
    "import numpy as np\n",
    "import pandas as pd\n",
    "import scipy.stats as stats\n",
    "import matplotlib.pyplot as plt\n",
    "import seaborn as sns\n",
    "\n",
    "%matplotlib inline"
   ]
  },
  {
   "cell_type": "code",
   "execution_count": 21,
   "id": "c5cad32f",
   "metadata": {},
   "outputs": [
    {
     "name": "stdout",
     "output_type": "stream",
     "text": [
      "Our t score is: 4.76\n"
     ]
    }
   ],
   "source": [
    "sample_mean = 130.1\n",
    "pop_mean = 120\n",
    "sample_std_dev = 21.21\n",
    "\n",
    "t = (sample_mean - pop_mean) / ( sample_std_dev / np.sqrt(100) )\n",
    "print(\"Our t score is: {:.2f}\".format(z))"
   ]
  },
  {
   "cell_type": "markdown",
   "id": "594ef1b4",
   "metadata": {},
   "source": [
    "### Result"
   ]
  },
  {
   "cell_type": "markdown",
   "id": "03e88872",
   "metadata": {},
   "source": [
    "4.76 > 1.98 and -4.76 < -1.98 -> reject null hypothesis\n",
    "\n",
    "The sample mean ist significantly different from the regular population mean"
   ]
  }
 ],
 "metadata": {
  "kernelspec": {
   "display_name": "Python 3.9.7 64-bit ('base': conda)",
   "language": "python",
   "name": "python397jvsc74a57bd0fd728cfbfdf309c58cb1716ce92887498871f2fbed01fb0dfdf39b6c2f09a82b"
  },
  "language_info": {
   "codemirror_mode": {
    "name": "ipython",
    "version": 3
   },
   "file_extension": ".py",
   "mimetype": "text/x-python",
   "name": "python",
   "nbconvert_exporter": "python",
   "pygments_lexer": "ipython3",
   "version": "3.9.7"
  },
  "toc": {
   "base_numbering": 1,
   "nav_menu": {},
   "number_sections": true,
   "sideBar": true,
   "skip_h1_title": true,
   "title_cell": "Table of Contents",
   "title_sidebar": "Contents",
   "toc_cell": false,
   "toc_position": {},
   "toc_section_display": true,
   "toc_window_display": false
  },
  "varInspector": {
   "cols": {
    "lenName": 16,
    "lenType": 16,
    "lenVar": 40
   },
   "kernels_config": {
    "python": {
     "delete_cmd_postfix": "",
     "delete_cmd_prefix": "del ",
     "library": "var_list.py",
     "varRefreshCmd": "print(var_dic_list())"
    },
    "r": {
     "delete_cmd_postfix": ") ",
     "delete_cmd_prefix": "rm(",
     "library": "var_list.r",
     "varRefreshCmd": "cat(var_dic_list()) "
    }
   },
   "types_to_exclude": [
    "module",
    "function",
    "builtin_function_or_method",
    "instance",
    "_Feature"
   ],
   "window_display": false
  }
 },
 "nbformat": 4,
 "nbformat_minor": 5
}
