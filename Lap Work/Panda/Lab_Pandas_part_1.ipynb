{
 "cells": [
  {
   "cell_type": "markdown",
   "metadata": {
    "id": "N1YkD9XI6Fg3"
   },
   "source": [
    "# Using Pandas"
   ]
  },
  {
   "cell_type": "code",
   "execution_count": 4,
   "metadata": {
    "executionInfo": {
     "elapsed": 4,
     "status": "ok",
     "timestamp": 1623140082185,
     "user": {
      "displayName": "Ignacio Soteras",
      "photoUrl": "",
      "userId": "02050793736257155229"
     },
     "user_tz": -120
    },
    "id": "jL4kjGt66Fg5"
   },
   "outputs": [],
   "source": [
    "import pandas as pd\n",
    "import numpy as np\n",
    "pd.set_option('display.max_rows', 200)\n",
    "## to make it possible to display multiple output inside one cell \n",
    "from IPython.core.interactiveshell import InteractiveShell\n",
    "InteractiveShell.ast_node_interactivity = \"all\""
   ]
  },
  {
   "cell_type": "markdown",
   "metadata": {},
   "source": [
    "<b>load the data from the vehicles.csv file into pandas data frame"
   ]
  },
  {
   "cell_type": "code",
   "execution_count": 5,
   "metadata": {
    "executionInfo": {
     "elapsed": 1346,
     "status": "ok",
     "timestamp": 1623140174431,
     "user": {
      "displayName": "Ignacio Soteras",
      "photoUrl": "",
      "userId": "02050793736257155229"
     },
     "user_tz": -120
    },
    "id": "GVHPs2Qa6Fg5"
   },
   "outputs": [],
   "source": [
    "## Your Code here\n",
    "\n",
    "vehicles_df = pd.read_csv(\"data/vehicles.csv\")"
   ]
  },
  {
   "cell_type": "markdown",
   "metadata": {
    "id": "Yk72_YtZ6Fg5"
   },
   "source": [
    "First exploration of the dataset:\n",
    "\n",
    "- How many observations does it have?\n",
    "- Look at all the columns: do you understand what they mean?\n",
    "- Look at the raw data: do you see anything weird?\n",
    "- Look at the data types: are they the expected ones for the information the column contains?"
   ]
  },
  {
   "cell_type": "code",
   "execution_count": 6,
   "metadata": {
    "colab": {
     "base_uri": "https://localhost:8080/"
    },
    "executionInfo": {
     "elapsed": 226,
     "status": "ok",
     "timestamp": 1623140221705,
     "user": {
      "displayName": "Ignacio Soteras",
      "photoUrl": "",
      "userId": "02050793736257155229"
     },
     "user_tz": -120
    },
    "id": "-FT85oMVPxlW",
    "outputId": "c9f5d2c8-d3c2-4acc-edec-914a92c7f60b"
   },
   "outputs": [
    {
     "name": "stdout",
     "output_type": "stream",
     "text": [
      "<class 'pandas.core.frame.DataFrame'>\n",
      "RangeIndex: 35952 entries, 0 to 35951\n",
      "Data columns (total 15 columns):\n",
      " #   Column                   Non-Null Count  Dtype  \n",
      "---  ------                   --------------  -----  \n",
      " 0   Make                     35952 non-null  object \n",
      " 1   Model                    35952 non-null  object \n",
      " 2   Year                     35952 non-null  int64  \n",
      " 3   Engine Displacement      35952 non-null  float64\n",
      " 4   Cylinders                35952 non-null  float64\n",
      " 5   Transmission             35952 non-null  object \n",
      " 6   Drivetrain               35952 non-null  object \n",
      " 7   Vehicle Class            35952 non-null  object \n",
      " 8   Fuel Type                35952 non-null  object \n",
      " 9   Fuel Barrels/Year        35952 non-null  float64\n",
      " 10  City MPG                 35952 non-null  int64  \n",
      " 11  Highway MPG              35952 non-null  int64  \n",
      " 12  Combined MPG             35952 non-null  int64  \n",
      " 13  CO2 Emission Grams/Mile  35952 non-null  float64\n",
      " 14  Fuel Cost/Year           35952 non-null  int64  \n",
      "dtypes: float64(4), int64(5), object(6)\n",
      "memory usage: 4.1+ MB\n"
     ]
    },
    {
     "data": {
      "text/plain": [
       "Make                       35952\n",
       "Model                      35952\n",
       "Year                       35952\n",
       "Engine Displacement        35952\n",
       "Cylinders                  35952\n",
       "Transmission               35952\n",
       "Drivetrain                 35952\n",
       "Vehicle Class              35952\n",
       "Fuel Type                  35952\n",
       "Fuel Barrels/Year          35952\n",
       "City MPG                   35952\n",
       "Highway MPG                35952\n",
       "Combined MPG               35952\n",
       "CO2 Emission Grams/Mile    35952\n",
       "Fuel Cost/Year             35952\n",
       "dtype: int64"
      ]
     },
     "execution_count": 6,
     "metadata": {},
     "output_type": "execute_result"
    },
    {
     "data": {
      "text/html": [
       "<div>\n",
       "<style scoped>\n",
       "    .dataframe tbody tr th:only-of-type {\n",
       "        vertical-align: middle;\n",
       "    }\n",
       "\n",
       "    .dataframe tbody tr th {\n",
       "        vertical-align: top;\n",
       "    }\n",
       "\n",
       "    .dataframe thead th {\n",
       "        text-align: right;\n",
       "    }\n",
       "</style>\n",
       "<table border=\"1\" class=\"dataframe\">\n",
       "  <thead>\n",
       "    <tr style=\"text-align: right;\">\n",
       "      <th></th>\n",
       "      <th>Year</th>\n",
       "      <th>Engine Displacement</th>\n",
       "      <th>Cylinders</th>\n",
       "      <th>Fuel Barrels/Year</th>\n",
       "      <th>City MPG</th>\n",
       "      <th>Highway MPG</th>\n",
       "      <th>Combined MPG</th>\n",
       "      <th>CO2 Emission Grams/Mile</th>\n",
       "      <th>Fuel Cost/Year</th>\n",
       "    </tr>\n",
       "  </thead>\n",
       "  <tbody>\n",
       "    <tr>\n",
       "      <th>count</th>\n",
       "      <td>35952.00000</td>\n",
       "      <td>35952.000000</td>\n",
       "      <td>35952.000000</td>\n",
       "      <td>35952.000000</td>\n",
       "      <td>35952.000000</td>\n",
       "      <td>35952.000000</td>\n",
       "      <td>35952.000000</td>\n",
       "      <td>35952.000000</td>\n",
       "      <td>35952.000000</td>\n",
       "    </tr>\n",
       "    <tr>\n",
       "      <th>mean</th>\n",
       "      <td>2000.71640</td>\n",
       "      <td>3.338493</td>\n",
       "      <td>5.765076</td>\n",
       "      <td>17.609056</td>\n",
       "      <td>17.646139</td>\n",
       "      <td>23.880646</td>\n",
       "      <td>19.929322</td>\n",
       "      <td>475.316339</td>\n",
       "      <td>1892.598465</td>\n",
       "    </tr>\n",
       "    <tr>\n",
       "      <th>std</th>\n",
       "      <td>10.08529</td>\n",
       "      <td>1.359395</td>\n",
       "      <td>1.755268</td>\n",
       "      <td>4.467283</td>\n",
       "      <td>4.769349</td>\n",
       "      <td>5.890876</td>\n",
       "      <td>5.112409</td>\n",
       "      <td>119.060773</td>\n",
       "      <td>506.958627</td>\n",
       "    </tr>\n",
       "    <tr>\n",
       "      <th>min</th>\n",
       "      <td>1984.00000</td>\n",
       "      <td>0.600000</td>\n",
       "      <td>2.000000</td>\n",
       "      <td>0.060000</td>\n",
       "      <td>6.000000</td>\n",
       "      <td>9.000000</td>\n",
       "      <td>7.000000</td>\n",
       "      <td>37.000000</td>\n",
       "      <td>600.000000</td>\n",
       "    </tr>\n",
       "    <tr>\n",
       "      <th>25%</th>\n",
       "      <td>1991.00000</td>\n",
       "      <td>2.200000</td>\n",
       "      <td>4.000000</td>\n",
       "      <td>14.699423</td>\n",
       "      <td>15.000000</td>\n",
       "      <td>20.000000</td>\n",
       "      <td>16.000000</td>\n",
       "      <td>395.000000</td>\n",
       "      <td>1500.000000</td>\n",
       "    </tr>\n",
       "    <tr>\n",
       "      <th>50%</th>\n",
       "      <td>2001.00000</td>\n",
       "      <td>3.000000</td>\n",
       "      <td>6.000000</td>\n",
       "      <td>17.347895</td>\n",
       "      <td>17.000000</td>\n",
       "      <td>24.000000</td>\n",
       "      <td>19.000000</td>\n",
       "      <td>467.736842</td>\n",
       "      <td>1850.000000</td>\n",
       "    </tr>\n",
       "    <tr>\n",
       "      <th>75%</th>\n",
       "      <td>2010.00000</td>\n",
       "      <td>4.300000</td>\n",
       "      <td>6.000000</td>\n",
       "      <td>20.600625</td>\n",
       "      <td>20.000000</td>\n",
       "      <td>27.000000</td>\n",
       "      <td>23.000000</td>\n",
       "      <td>555.437500</td>\n",
       "      <td>2200.000000</td>\n",
       "    </tr>\n",
       "    <tr>\n",
       "      <th>max</th>\n",
       "      <td>2017.00000</td>\n",
       "      <td>8.400000</td>\n",
       "      <td>16.000000</td>\n",
       "      <td>47.087143</td>\n",
       "      <td>58.000000</td>\n",
       "      <td>61.000000</td>\n",
       "      <td>56.000000</td>\n",
       "      <td>1269.571429</td>\n",
       "      <td>5800.000000</td>\n",
       "    </tr>\n",
       "  </tbody>\n",
       "</table>\n",
       "</div>"
      ],
      "text/plain": [
       "              Year  Engine Displacement     Cylinders  Fuel Barrels/Year  \\\n",
       "count  35952.00000         35952.000000  35952.000000       35952.000000   \n",
       "mean    2000.71640             3.338493      5.765076          17.609056   \n",
       "std       10.08529             1.359395      1.755268           4.467283   \n",
       "min     1984.00000             0.600000      2.000000           0.060000   \n",
       "25%     1991.00000             2.200000      4.000000          14.699423   \n",
       "50%     2001.00000             3.000000      6.000000          17.347895   \n",
       "75%     2010.00000             4.300000      6.000000          20.600625   \n",
       "max     2017.00000             8.400000     16.000000          47.087143   \n",
       "\n",
       "           City MPG   Highway MPG  Combined MPG  CO2 Emission Grams/Mile  \\\n",
       "count  35952.000000  35952.000000  35952.000000             35952.000000   \n",
       "mean      17.646139     23.880646     19.929322               475.316339   \n",
       "std        4.769349      5.890876      5.112409               119.060773   \n",
       "min        6.000000      9.000000      7.000000                37.000000   \n",
       "25%       15.000000     20.000000     16.000000               395.000000   \n",
       "50%       17.000000     24.000000     19.000000               467.736842   \n",
       "75%       20.000000     27.000000     23.000000               555.437500   \n",
       "max       58.000000     61.000000     56.000000              1269.571429   \n",
       "\n",
       "       Fuel Cost/Year  \n",
       "count    35952.000000  \n",
       "mean      1892.598465  \n",
       "std        506.958627  \n",
       "min        600.000000  \n",
       "25%       1500.000000  \n",
       "50%       1850.000000  \n",
       "75%       2200.000000  \n",
       "max       5800.000000  "
      ]
     },
     "execution_count": 6,
     "metadata": {},
     "output_type": "execute_result"
    }
   ],
   "source": [
    "## Your Code here\n",
    "\n",
    "vehicles_df.info()\n",
    "vehicles_df.count()\n",
    "vehicles_df.describe()\n"
   ]
  },
  {
   "cell_type": "markdown",
   "metadata": {},
   "source": [
    "###How many observations does it have?\n",
    "\n",
    "The dataset has 35952 entries.\n",
    "\n",
    "###Look at all the columns: do you understand what they mean?\n",
    "\n",
    "We don´t now what year was used for Fuel Cost/Year \n",
    "\n",
    "###Look at the raw data: do you see anything weird?\n",
    "\n",
    "The Minimum of CO2 Emission Grams/Mile and Fuel Barrels/Year looks too low\n",
    "\n",
    "###Look at the data types: are they the expected ones for the information the column contains?\n",
    "I would say so\n",
    "\n"
   ]
  },
  {
   "cell_type": "markdown",
   "metadata": {
    "id": "tqcFYXUk6Fg6"
   },
   "source": [
    "### Cleaning and wrangling data\n",
    "\n",
    "- Some car brand names refer to the same brand. Replace all brand names that contain the word \"Dutton\" for simply \"Dutton\". If you find similar examples, clean their names too. Use `loc` with boolean indexing.\n",
    "\n",
    "- Convert CO2 Emissions from Grams/Mile to Grams/Km\n",
    "\n",
    "- Create a binary column that solely indicates if the transmission of a car is automatic or manual. Use `pandas.Series.str.startswith` and .\n",
    "\n",
    "- convert MPG columns to km_per_liter"
   ]
  },
  {
   "cell_type": "code",
   "execution_count": 7,
   "metadata": {},
   "outputs": [
    {
     "data": {
      "text/plain": [
       "Chevrolet                             3643\n",
       "Ford                                  2946\n",
       "Dodge                                 2360\n",
       "GMC                                   2347\n",
       "Toyota                                1836\n",
       "BMW                                   1677\n",
       "Mercedes-Benz                         1284\n",
       "Nissan                                1253\n",
       "Volkswagen                            1047\n",
       "Mitsubishi                             950\n",
       "Mazda                                  915\n",
       "Audi                                   890\n",
       "Porsche                                862\n",
       "Honda                                  836\n",
       "Jeep                                   829\n",
       "Pontiac                                784\n",
       "Subaru                                 781\n",
       "Volvo                                  717\n",
       "Hyundai                                662\n",
       "Chrysler                               641\n",
       "Buick                                  537\n",
       "Mercury                                532\n",
       "Suzuki                                 512\n",
       "Cadillac                               508\n",
       "Kia                                    493\n",
       "Plymouth                               456\n",
       "Saab                                   410\n",
       "Isuzu                                  409\n",
       "Lexus                                  397\n",
       "Oldsmobile                             376\n",
       "Infiniti                               345\n",
       "Jaguar                                 343\n",
       "MINI                                   320\n",
       "Acura                                  302\n",
       "Saturn                                 278\n",
       "Lincoln                                273\n",
       "Ferrari                                208\n",
       "Rolls-Royce                            160\n",
       "Eagle                                  156\n",
       "Geo                                    144\n",
       "Land Rover                             142\n",
       "Aston Martin                           133\n",
       "Bentley                                116\n",
       "Maserati                               111\n",
       "Lamborghini                            104\n",
       "Scion                                   83\n",
       "Peugeot                                 74\n",
       "Daewoo                                  67\n",
       "Ram                                     57\n",
       "Roush Performance                       53\n",
       "Lotus                                   53\n",
       "Fiat                                    43\n",
       "Alfa Romeo                              41\n",
       "J.K. Motors                             36\n",
       "Renault                                 33\n",
       "Wallace Environmental                   32\n",
       "Maybach                                 31\n",
       "American Motors Corporation             22\n",
       "smart                                   20\n",
       "Hummer                                  19\n",
       "Daihatsu                                17\n",
       "CX Automotive                           16\n",
       "Merkur                                  14\n",
       "Federal Coach                           14\n",
       "Import Trade Services                   13\n",
       "McLaren Automotive                      13\n",
       "Spyker                                  13\n",
       "Sterling                                12\n",
       "Bugatti                                  8\n",
       "Yugo                                     8\n",
       "Genesis                                  7\n",
       "Tecstar, LP                              6\n",
       "Mcevoy Motors                            6\n",
       "Saleen                                   5\n",
       "VPG                                      5\n",
       "Bertone                                  5\n",
       "Panther Car Company Limited              4\n",
       "Saleen Performance                       4\n",
       "AM General                               4\n",
       "TVR Engineering Ltd                      4\n",
       "Grumman Olson                            4\n",
       "Texas Coach Company                      4\n",
       "Vector                                   4\n",
       "Autokraft Limited                        4\n",
       "Morgan                                   3\n",
       "Evans Automobiles                        3\n",
       "Dacia                                    3\n",
       "Dabryan Coach Builders Inc               3\n",
       "Consulier Industries Inc                 3\n",
       "BMW Alpina                               3\n",
       "Bitter Gmbh and Co. Kg                   3\n",
       "SRT                                      2\n",
       "Ruf Automobile Gmbh                      2\n",
       "CCC Engineering                          2\n",
       "Red Shift Ltd.                           2\n",
       "Bill Dovell Motor Car Company            2\n",
       "Quantum Technologies                     2\n",
       "Pagani                                   2\n",
       "PAS, Inc                                 2\n",
       "Laforza Automobile Inc                   2\n",
       "Mobility Ventures LLC                    2\n",
       "Pininfarina                              2\n",
       "PAS Inc - GMC                            2\n",
       "Import Foreign Auto Sales Inc            1\n",
       "London Taxi                              1\n",
       "London Coach Co Inc                      1\n",
       "Qvale                                    1\n",
       "Grumman Allied Industries                1\n",
       "Vixen Motor Company                      1\n",
       "Volga Associated Automobile              1\n",
       "ASC Incorporated                         1\n",
       "Isis Imports Ltd                         1\n",
       "Aurora Cars Ltd                          1\n",
       "JBA Motorcars, Inc.                      1\n",
       "Mahindra                                 1\n",
       "Superior Coaches Div E.p. Dutton         1\n",
       "Goldacre                                 1\n",
       "General Motors                           1\n",
       "Fisker                                   1\n",
       "Shelby                                   1\n",
       "Panos                                    1\n",
       "Panoz Auto-Development                   1\n",
       "Excalibur Autos                          1\n",
       "S and S Coach Company  E.p. Dutton       1\n",
       "Environmental Rsch and Devp Corp         1\n",
       "E. P. Dutton, Inc.                       1\n",
       "Lambda Control Systems                   1\n",
       "Name: Make, dtype: int64"
      ]
     },
     "execution_count": 7,
     "metadata": {},
     "output_type": "execute_result"
    }
   ],
   "source": [
    "## Some car brand names refer to the same brand. Replace all brand names that contain the word \"Dutton\" for simply \"Dutton\". If you find similar examples, clean their names too. Use loc with boolean indexing.\n",
    "\n",
    "vehicles_df.Make.value_counts()\n",
    "\n",
    "dutton_names = vehicles_df[vehicles_df[\"Make\"].str.contains(\"Dutton\")==True]\n",
    "vehicles_df[\"Make\"].replace([\"E. P. Dutton, Inc.\",\"Superior Coaches Div E.p. Dutton\",\"S and S Coach Company  E.p. Dutton\"],\"Dutton\", inplace=True)\n",
    "\n",
    "PAS_names = vehicles_df[vehicles_df[\"Make\"].str.contains(\"PAS\")==True]\n",
    "vehicles_df[\"Make\"].replace([\"PAS Inc - GMC\",\"PAS, Inc\"],\"PAS Inc\", inplace=True)\n",
    "\n",
    "BMW_names = vehicles_df[vehicles_df[\"Make\"].str.contains(\"BMW\")==True]\n",
    "vehicles_df[\"Make\"].replace([\"BMW Alpina\"],\"BMW\", inplace=True)\n",
    "\n",
    "Grumman_names = vehicles_df[vehicles_df[\"Make\"].str.contains(\"Grumman\")==True]\n",
    "vehicles_df[\"Make\"].replace([\"Grumman Allied Industries\",\"Grumman Olson\"],\"Grumman\", inplace=True)\n",
    "\n",
    "Saleen_names = vehicles_df[vehicles_df[\"Make\"].str.contains(\"Saleen\")==True]\n",
    "vehicles_df[\"Make\"].replace([\"Saleen Performance\"],\"Saleen\", inplace=True)\n",
    "\n",
    "#vehicles_df[\"Make\"].[vehicles_df.loc(\"Make\"),str.contains(\"Dutton\")]=\"Dutton\"\n"
   ]
  },
  {
   "cell_type": "code",
   "execution_count": 13,
   "metadata": {},
   "outputs": [
    {
     "name": "stderr",
     "output_type": "stream",
     "text": [
      "/var/folders/m3/8y4gy36n5d56ph0nly0_0n180000gp/T/ipykernel_47049/574062409.py:3: SettingWithCopyWarning: \n",
      "A value is trying to be set on a copy of a slice from a DataFrame\n",
      "\n",
      "See the caveats in the documentation: https://pandas.pydata.org/pandas-docs/stable/user_guide/indexing.html#returning-a-view-versus-a-copy\n",
      "  vehicles_df[\"Make\"][dutton_filter]=\"Dutton\"\n"
     ]
    }
   ],
   "source": [
    "dutton_filter=vehicles_df[\"Make\"].str.contains(\"Dutton\")\n",
    "\n",
    "vehicles_df[\"Make\"][dutton_filter]=\"Dutton\"\n"
   ]
  },
  {
   "cell_type": "code",
   "execution_count": null,
   "metadata": {},
   "outputs": [],
   "source": []
  },
  {
   "cell_type": "code",
   "execution_count": 22,
   "metadata": {},
   "outputs": [
    {
     "data": {
      "text/plain": [
       "array([False, False, False, False, False, False, False, False, False,\n",
       "       False, False, False, False, False, False, False, False, False,\n",
       "       False, False, False, False, False, False, False, False, False,\n",
       "       False, False, False, False, False, False, False, False, False,\n",
       "       False, False, False, False, False, False, False, False, False,\n",
       "       False, False, False, False, False, False, False, False, False,\n",
       "       False, False, False, False, False, False, False, False, False,\n",
       "       False, False, False, False, False, False, False, False, False,\n",
       "       False, False, False, False, False, False, False, False, False,\n",
       "       False, False, False, False, False, False, False,  True, False,\n",
       "       False, False, False, False, False, False, False, False, False,\n",
       "       False, False, False, False, False, False, False, False, False,\n",
       "       False, False, False, False, False, False, False, False, False,\n",
       "       False, False, False, False])"
      ]
     },
     "execution_count": 22,
     "metadata": {},
     "output_type": "execute_result"
    }
   ],
   "source": [
    "vehicles_df[\"Make\"].value_counts().index.str.contains(\"Dutton\")\n"
   ]
  },
  {
   "cell_type": "code",
   "execution_count": null,
   "metadata": {},
   "outputs": [],
   "source": [
    "#Convert CO2 Emissions from Grams/Mile to Grams/Km\n",
    "\n",
    "vehicles_df[\"CO2 Emission Grams/Mile\"]=vehicles_df[\"CO2 Emission Grams/Mile\"]*(1/1.60934)\n",
    "vehicles_df.rename(columns={\"CO2 Emission Grams/Mile\":\"CO2 Emission Grams/Km\"}, inplace=True)\n",
    "vehicles_df"
   ]
  },
  {
   "cell_type": "markdown",
   "metadata": {
    "id": "e_r1ZfaxWfaq"
   },
   "source": [
    "Converting Grams/Mile to Grams/Km\n",
    "\n",
    "1 Mile = 1.60934 Km\n",
    "\n",
    "Grams/Mile * Mile/Km -> Grams/Mile * 1 Mile/1.60934Km\n",
    "\n",
    "$$ \\frac{Grams}{Mile} * \\frac{Mile}{Km} $$\n",
    "\n",
    "$$ \\frac{Grams}{Mile} * \\frac{1 Mile}{1.60934Km}  $$"
   ]
  },
  {
   "cell_type": "code",
   "execution_count": null,
   "metadata": {},
   "outputs": [],
   "source": [
    "#Create a binary column that solely indicates if the transmission of a car is automatic or manual. Use pandas.Series.str.startswith\n",
    "\n",
    "\n",
    "vehicles_df[\"Transmission_Automatic\"]=vehicles_df[\"Transmission\"].str.startswith(\"A\", na=False)\n",
    "vehicles_df\n",
    "\n",
    "#vehicles_df[\"Transmission_Automatic\"]=list(map(lambda x: \"Auto\" if(x.startwith(\"Auto\") else \"Manual\", df[\"Transmission\"])))"
   ]
  },
  {
   "cell_type": "code",
   "execution_count": null,
   "metadata": {},
   "outputs": [],
   "source": [
    "# convert MPG columns to km_per_liter\n",
    "\n",
    "vehicles_df[\"City MPG\"]=vehicles_df[\"City MPG\"]*(1.60934/3.78541)\n",
    "vehicles_df[\"Highway MPG\"]=vehicles_df[\"Highway MPG\"]*(1.60934/3.78541)\n",
    "vehicles_df[\"Combined MPG\"]=vehicles_df[\"Combined MPG\"]*(1.60934/3.78541)\n",
    "vehicles_df.rename(columns={\"City MPG\":\"City Km/Liter\",\"Highway MPG\":\"Highway Km/Liter\",\"Combined MPG\":\"Combined Km/Liter\"}, inplace=True)\n",
    "\n",
    "vehicles_df"
   ]
  },
  {
   "cell_type": "markdown",
   "metadata": {
    "id": "R-jWHEisa3nF"
   },
   "source": [
    "convert MPG columns to km_per_liter\n",
    "\n",
    "MPG = Miles/Gallon -> Km/Liter\n",
    "\n",
    "1 Mile = 1.60934 Km\n",
    "\n",
    "1 Gallon = 3.78541 Liters\n",
    "\n",
    "$$ \\frac{Miles}{Gallon} -> \\frac{Miles}{Gallon} * \\frac{Km}{Miles} * \\frac{Gallon}{Liters}$$\n",
    "\n",
    "$$ \\frac{Miles}{Gallon} -> \\frac{Miles}{Gallon} * \\frac{1.60934Km}{ 1Miles} * \\frac{1 Gallon}{3.78541 Liters}$$\n",
    "\n",
    "* ( 1.60934 / 3.78541 )\n"
   ]
  },
  {
   "cell_type": "markdown",
   "metadata": {
    "id": "SRZZJAPQ6Fg6"
   },
   "source": [
    "### Gathering insights:\n",
    "\n",
    "- How many car makers are there? How many models? Which car maker has the most cars in the dataset?\n",
    "\n",
    "- When were these cars made? How big is the engine of these cars?\n",
    "\n",
    "- What's the frequency of different transmissions, drivetrains and fuel types?\n",
    "\n",
    "- What's the car that consumes the least/most fuel?"
   ]
  },
  {
   "cell_type": "code",
   "execution_count": null,
   "metadata": {
    "colab": {
     "base_uri": "https://localhost:8080/"
    },
    "executionInfo": {
     "elapsed": 346,
     "status": "ok",
     "timestamp": 1623143226628,
     "user": {
      "displayName": "Ignacio Soteras",
      "photoUrl": "",
      "userId": "02050793736257155229"
     },
     "user_tz": -120
    },
    "id": "LS-EOV3f6Fg7",
    "outputId": "7244f51d-279e-4a71-ba35-63d2969f5a74"
   },
   "outputs": [],
   "source": [
    "## How many car makers are there? How many models? Which car maker has the most cars in the dataset?\n",
    "\n",
    "print(vehicles_df[\"Make\"].nunique())\n",
    "#127 car makers\n",
    "\n",
    "print(vehicles_df[\"Model\"].nunique())\n",
    "#3608 models\n",
    "\n",
    "print(vehicles_df.Make.value_counts())\n",
    "#Chevrolet has the most cars"
   ]
  },
  {
   "cell_type": "code",
   "execution_count": null,
   "metadata": {},
   "outputs": [],
   "source": [
    "##When were these cars made? How big is the engine of these cars?\n",
    "\n",
    "print(vehicles_df[\"Year\"].max(),vehicles_df[\"Year\"].min())\n",
    "#There were made between 1984 and 2017.\n",
    "\n",
    "print(vehicles_df[\"Engine Displacement\"].max(),vehicles_df[\"Engine Displacement\"].min())\n",
    "#Between 0.6  and 8.4 "
   ]
  },
  {
   "cell_type": "code",
   "execution_count": null,
   "metadata": {},
   "outputs": [],
   "source": [
    "##What's the frequency of different transmissions, drivetrains and fuel types?\n",
    "print(vehicles_df.Transmission_Automatic.value_counts())\n",
    "print(vehicles_df.Drivetrain.value_counts())\n",
    "print(vehicles_df[\"Fuel Type\"].value_counts())"
   ]
  },
  {
   "cell_type": "code",
   "execution_count": null,
   "metadata": {},
   "outputs": [],
   "source": [
    "##What's the car that consumes the least/most fuel?\n",
    "\n",
    "vehicles_df.loc[vehicles_df[\"Fuel Barrels/Year\"] == vehicles_df[\"Fuel Barrels/Year\"].max()]\n",
    "#Lamborghini Countach cosumes the most \n",
    "\n",
    "vehicles_df.loc[vehicles_df[\"Fuel Barrels/Year\"] == vehicles_df[\"Fuel Barrels/Year\"].min()]\n",
    "#Honda Civic cosumes the least"
   ]
  },
  {
   "cell_type": "markdown",
   "metadata": {
    "id": "rcSnpI3I6Fg8"
   },
   "source": [
    "What brand has the worse CO2 Emissions on average?\n",
    "\n",
    "Hint: use the function `sort_values()`"
   ]
  },
  {
   "cell_type": "code",
   "execution_count": null,
   "metadata": {
    "colab": {
     "base_uri": "https://localhost:8080/",
     "height": 686
    },
    "executionInfo": {
     "elapsed": 270,
     "status": "ok",
     "timestamp": 1623145362738,
     "user": {
      "displayName": "Ignacio Soteras",
      "photoUrl": "",
      "userId": "02050793736257155229"
     },
     "user_tz": -120
    },
    "id": "SV2s8Lm66Fg8",
    "outputId": "ca1f005a-f090-4cec-952f-8e20d3193b46"
   },
   "outputs": [],
   "source": [
    "## your Code here\n",
    "\n",
    "grouped_vehicles_df = vehicles_df.groupby(\"Make\")\n",
    "mean_df = grouped_vehicles_df.mean()\n",
    "mean_df.sort_values(by=[\"CO2 Emission Grams/Km\"])\n",
    "\n",
    "#Vector has the worse CO2 Emissions on average (651.919248)"
   ]
  },
  {
   "cell_type": "markdown",
   "metadata": {
    "id": "2avLmljX6Fg9"
   },
   "source": [
    "Do cars with automatic transmission consume more fuel than cars with manual transmission on average?"
   ]
  },
  {
   "cell_type": "code",
   "execution_count": null,
   "metadata": {},
   "outputs": [],
   "source": [
    "## Your Code is here \n",
    "\n",
    "grouped_vehicles_df = vehicles_df.groupby(\"Transmission_Automatic\")\n",
    "mean_df = grouped_vehicles_df.mean()\n",
    "print(mean_df)\n",
    "\n",
    "#No, they consume less"
   ]
  },
  {
   "cell_type": "code",
   "execution_count": null,
   "metadata": {},
   "outputs": [],
   "source": []
  }
 ],
 "metadata": {
  "colab": {
   "name": "Pandas_Grouping_Joining_Cars_Structure.ipynb",
   "provenance": []
  },
  "kernelspec": {
   "display_name": "Python 3 (ipykernel)",
   "language": "python",
   "name": "python3"
  },
  "language_info": {
   "codemirror_mode": {
    "name": "ipython",
    "version": 3
   },
   "file_extension": ".py",
   "mimetype": "text/x-python",
   "name": "python",
   "nbconvert_exporter": "python",
   "pygments_lexer": "ipython3",
   "version": "3.9.7"
  },
  "toc": {
   "base_numbering": 1,
   "nav_menu": {},
   "number_sections": true,
   "sideBar": true,
   "skip_h1_title": false,
   "title_cell": "Table of Contents",
   "title_sidebar": "Contents",
   "toc_cell": false,
   "toc_position": {},
   "toc_section_display": true,
   "toc_window_display": false
  },
  "varInspector": {
   "cols": {
    "lenName": 16,
    "lenType": 16,
    "lenVar": 40
   },
   "kernels_config": {
    "python": {
     "delete_cmd_postfix": "",
     "delete_cmd_prefix": "del ",
     "library": "var_list.py",
     "varRefreshCmd": "print(var_dic_list())"
    },
    "r": {
     "delete_cmd_postfix": ") ",
     "delete_cmd_prefix": "rm(",
     "library": "var_list.r",
     "varRefreshCmd": "cat(var_dic_list()) "
    }
   },
   "types_to_exclude": [
    "module",
    "function",
    "builtin_function_or_method",
    "instance",
    "_Feature"
   ],
   "window_display": false
  }
 },
 "nbformat": 4,
 "nbformat_minor": 1
}
