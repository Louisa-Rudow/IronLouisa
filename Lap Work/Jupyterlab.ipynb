{
 "cells": [
  {
   "cell_type": "markdown",
   "id": "96c34701",
   "metadata": {},
   "source": [
    "# <font color='blue'>My trip to Japan</font> "
   ]
  },
  {
   "cell_type": "markdown",
   "id": "f633d9f8",
   "metadata": {},
   "source": [
    "In 2016, I visited a good friend in Japan who was working in Tokyo for a few months. In this notebook I will share some experiences I had during this trip :)"
   ]
  },
  {
   "cell_type": "code",
   "execution_count": 5,
   "id": "df9b4172",
   "metadata": {},
   "outputs": [],
   "source": [
    "def name():\n",
    "    friend_name= input(\"Please enter your name\")\n",
    "    return \"The name of my friend is\", friend_name"
   ]
  },
  {
   "cell_type": "code",
   "execution_count": 6,
   "id": "0d6f1a3b",
   "metadata": {},
   "outputs": [
    {
     "name": "stdout",
     "output_type": "stream",
     "text": [
      "Please enter your nameLouisa\n"
     ]
    },
    {
     "data": {
      "text/plain": [
       "('The name of my friend is', 'Louisa')"
      ]
     },
     "execution_count": 6,
     "metadata": {},
     "output_type": "execute_result"
    }
   ],
   "source": [
    "name()"
   ]
  },
  {
   "cell_type": "markdown",
   "id": "13556298",
   "metadata": {},
   "source": [
    "\n",
    "<img src=\"https://s20.directupload.net/images/220110/xkdtrd82.jpg\" alt=\"drawing\" width=\"200\"/>"
   ]
  },
  {
   "cell_type": "code",
   "execution_count": 3,
   "id": "5baed7f3",
   "metadata": {},
   "outputs": [],
   "source": [
    "def holiday_preferences():\n",
    "    preference= input(\"What is your favorite holiday destination and why?\")\n",
    "    return preference"
   ]
  },
  {
   "cell_type": "code",
   "execution_count": 4,
   "id": "9dead73b",
   "metadata": {},
   "outputs": [
    {
     "name": "stdout",
     "output_type": "stream",
     "text": [
      "What is your favorite holiday destination and why?Japan, because I love the culture and the food.\n"
     ]
    },
    {
     "data": {
      "text/plain": [
       "'Japan, because I love the culture and the food.'"
      ]
     },
     "execution_count": 4,
     "metadata": {},
     "output_type": "execute_result"
    }
   ],
   "source": [
    "holiday_preferences()"
   ]
  },
  {
   "cell_type": "markdown",
   "id": "e59b3d49",
   "metadata": {},
   "source": [
    "---\n",
    "\n",
    "<br>\n",
    "\n",
    "![tokio](https://www.falstaff.de/fileadmin/_processed_/7/1/csm_1-tokio-c-GettyImages-2640_22025df6c6.jpg)"
   ]
  },
  {
   "cell_type": "markdown",
   "id": "9fc1b095",
   "metadata": {},
   "source": [
    "\n",
    "---\n",
    "\n",
    "\n",
    "## <font color='green'>Top 3 things to do in Tokio</font>\n",
    "\n",
    "1. Enjoy the view from Tokyo Tower at sunset\n",
    "2. Visit one of the many temples and gardens\n",
    "3. **Taste as much food as possible!**\n"
   ]
  },
  {
   "cell_type": "markdown",
   "id": "1fb1c84e",
   "metadata": {},
   "source": [
    "---\n",
    "\n",
    "## <font color='green'>Video: Japanese Food Tour - HIDDEN-GEMS in Tokyo</font>\n",
    "\n",
    "<br>\n",
    "\n",
    "[![IMAGE ALT TEXT HERE](https://img.youtube.com/vi/iszTT9U4OA8/0.jpg)](https://www.youtube.com/watch?v=iszTT9U4OA8 \"Japanese Food Tour - HIDDEN-GEMS in Tokyo\")"
   ]
  },
  {
   "cell_type": "markdown",
   "id": "2e150aa5",
   "metadata": {},
   "source": [
    "*Annotation: Here I used a modul that I found on stack overflow: While it's not possible to embed a video in Markdown you can \"fake it\" by including a valid linked image in the markup file*"
   ]
  },
  {
   "cell_type": "code",
   "execution_count": null,
   "id": "ba08c6d2",
   "metadata": {},
   "outputs": [],
   "source": []
  }
 ],
 "metadata": {
  "kernelspec": {
   "display_name": "Python 3.9.7 64-bit ('base': conda)",
   "language": "python",
   "name": "python397jvsc74a57bd0fd728cfbfdf309c58cb1716ce92887498871f2fbed01fb0dfdf39b6c2f09a82b"
  },
  "language_info": {
   "codemirror_mode": {
    "name": "ipython",
    "version": 3
   },
   "file_extension": ".py",
   "mimetype": "text/x-python",
   "name": "python",
   "nbconvert_exporter": "python",
   "pygments_lexer": "ipython3",
   "version": "3.9.7"
  }
 },
 "nbformat": 4,
 "nbformat_minor": 5
}
